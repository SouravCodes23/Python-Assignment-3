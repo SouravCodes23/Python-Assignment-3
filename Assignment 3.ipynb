{
 "cells": [
  {
   "cell_type": "code",
   "execution_count": 1,
   "id": "728edfbd-e825-4d5b-bde3-9cf06220c157",
   "metadata": {},
   "outputs": [],
   "source": [
    " ### Which keyword is used to create a function? Create a function to return a list of odd numbers in the range of 1 to 25 . "
   ]
  },
  {
   "cell_type": "code",
   "execution_count": 2,
   "id": "9870200c-6604-4ae2-8204-719c1c8e5374",
   "metadata": {},
   "outputs": [
    {
     "data": {
      "text/plain": [
       "' Def keyword is used to crwate a function '"
      ]
     },
     "execution_count": 2,
     "metadata": {},
     "output_type": "execute_result"
    }
   ],
   "source": [
    " \"\"\" Def keyword is used to crwate a function \"\"\""
   ]
  },
  {
   "cell_type": "code",
   "execution_count": 25,
   "id": "e363c600-04f3-47c8-b6b9-0124dc26bc41",
   "metadata": {},
   "outputs": [
    {
     "name": "stdout",
     "output_type": "stream",
     "text": [
      "[1, 3, 5, 7, 9, 11, 13, 15, 17, 19, 21, 23]\n"
     ]
    }
   ],
   "source": [
    "def odd_numbers():\n",
    "    \"\"\" This my function to create odd numbers\"\"\"\n",
    "    \n",
    "    l = []\n",
    "    for i in range(1,25):\n",
    "        if i % 2 != 0:\n",
    "            l.append(i)\n",
    "            \n",
    "    return l\n",
    "                \n",
    "result = odd_numbers()\n",
    "print(result)\n",
    "\n"
   ]
  },
  {
   "cell_type": "code",
   "execution_count": 1,
   "id": "10481df1-1190-4c7e-8097-a199e093656b",
   "metadata": {},
   "outputs": [],
   "source": [
    "### Why *args and **kwargs is used in some functions? Create a function each for *args and **kwargs to demonstrate their use ."
   ]
  },
  {
   "cell_type": "code",
   "execution_count": 2,
   "id": "1cafdd7f-a73d-42fb-952d-344b77bcc4f8",
   "metadata": {},
   "outputs": [
    {
     "data": {
      "text/plain": [
       "' *args and **kwargs are used to handle a variable number of arguments in a function '"
      ]
     },
     "execution_count": 2,
     "metadata": {},
     "output_type": "execute_result"
    }
   ],
   "source": [
    "\"\"\" *args and **kwargs are used to handle a variable number of arguments in a function \"\"\""
   ]
  },
  {
   "cell_type": "code",
   "execution_count": 5,
   "id": "29c70446-466c-43de-b61a-ef8bd719e44a",
   "metadata": {},
   "outputs": [],
   "source": [
    "def test11(*args):\n",
    "    return args"
   ]
  },
  {
   "cell_type": "code",
   "execution_count": 8,
   "id": "98c44872-57cd-48e9-abf2-5ea132566944",
   "metadata": {},
   "outputs": [
    {
     "data": {
      "text/plain": [
       "(1, 2, 3, 4, 5, 6, 7)"
      ]
     },
     "execution_count": 8,
     "metadata": {},
     "output_type": "execute_result"
    }
   ],
   "source": [
    "test11(1,2,3,4,5,6,7)"
   ]
  },
  {
   "cell_type": "code",
   "execution_count": 10,
   "id": "fb77fe68-4290-4945-be97-75a3622a323a",
   "metadata": {},
   "outputs": [],
   "source": [
    "def test1(**kwargs):\n",
    "    return kwargs\n"
   ]
  },
  {
   "cell_type": "code",
   "execution_count": 11,
   "id": "73298dfb-b7ce-451a-af70-13c8c995204f",
   "metadata": {},
   "outputs": [
    {
     "data": {
      "text/plain": [
       "{'a': 'sourav', 'b': [1, 34, 56, 78, 9], 'c': [123.45, 543, 45, 98]}"
      ]
     },
     "execution_count": 11,
     "metadata": {},
     "output_type": "execute_result"
    }
   ],
   "source": [
    "test1(a = \"sourav\",b = [1,34,56,78,9],c = [123.45,543,45,98])"
   ]
  },
  {
   "cell_type": "code",
   "execution_count": 13,
   "id": "a4845219-8792-4dc7-b457-b9441e2cf43f",
   "metadata": {},
   "outputs": [],
   "source": [
    "### What is an iterator in python? Name the method used to initialise the iterator object and the method \n",
    "### used for iteration. Use these methods to print the first five elements of the given list [2, 4, 6, 8, 10, 12, 14 ,\n",
    "## 16, 18, 20] "
   ]
  },
  {
   "cell_type": "code",
   "execution_count": 14,
   "id": "358aa22e-8a34-41c8-95a4-fef549dbd226",
   "metadata": {},
   "outputs": [],
   "source": [
    "### In python iterator  is an object it allows you to iterate over elements in sequence one at a time\n",
    "### The method used for iteration is next() and to create an iterator to use iter() ."
   ]
  },
  {
   "cell_type": "code",
   "execution_count": 21,
   "id": "854d026c-826b-42e9-b386-3b88c0f67fef",
   "metadata": {},
   "outputs": [
    {
     "name": "stdout",
     "output_type": "stream",
     "text": [
      "2\n",
      "4\n",
      "6\n",
      "8\n",
      "10\n"
     ]
    }
   ],
   "source": [
    "l = [2,4,6,8,10,12,14,16,18,20]\n",
    "iterator = iter(l)\n",
    "for i in range(5):\n",
    "    element = next(iterator)\n",
    "    print(element)"
   ]
  },
  {
   "cell_type": "code",
   "execution_count": 22,
   "id": "55b36680-f8f3-434d-8140-e7c261cb381a",
   "metadata": {},
   "outputs": [],
   "source": [
    "### What is a generator function in python? Why yield keyword is used? Give an example of a generator function"
   ]
  },
  {
   "cell_type": "code",
   "execution_count": 28,
   "id": "8295d27b-e302-4866-b22c-1416c1cc3ea1",
   "metadata": {},
   "outputs": [
    {
     "data": {
      "text/plain": [
       "'In python The generator function is special type of function that allows you to generate\\na special type of memory  one at a time without storing a them in memory. '"
      ]
     },
     "execution_count": 28,
     "metadata": {},
     "output_type": "execute_result"
    }
   ],
   "source": [
    "\"\"\"In python The generator function is special type of function that allows you to generate\n",
    "a special type of memory  one at a time without storing a them in memory. \"\"\" "
   ]
  },
  {
   "cell_type": "code",
   "execution_count": 31,
   "id": "738ddd70-e627-4649-bfee-55809274c618",
   "metadata": {},
   "outputs": [
    {
     "data": {
      "text/plain": [
       "' Yield keyword is used in python This allows you to create iterators in a more memory-efficient way because you are only generating and storing values as needed.'"
      ]
     },
     "execution_count": 31,
     "metadata": {},
     "output_type": "execute_result"
    }
   ],
   "source": [
    "\"\"\" Yield keyword is used in python This allows you to create iterators in a more memory-efficient way because you are only generating and storing values as needed.\"\"\""
   ]
  },
  {
   "cell_type": "code",
   "execution_count": 32,
   "id": "cf168e1e-df56-4e33-a396-60a071d369e2",
   "metadata": {},
   "outputs": [],
   "source": [
    "def test_fib(n):\n",
    "    a,b = 2,4\n",
    "    for i in range(n):\n",
    "        yield a\n",
    "        a,b = b,a+b"
   ]
  },
  {
   "cell_type": "code",
   "execution_count": 34,
   "id": "451c4245-bdf4-4176-8f75-a09ec03fe9dd",
   "metadata": {},
   "outputs": [
    {
     "name": "stdout",
     "output_type": "stream",
     "text": [
      "2\n",
      "4\n",
      "6\n",
      "10\n",
      "16\n",
      "26\n",
      "42\n",
      "68\n",
      "110\n",
      "178\n"
     ]
    }
   ],
   "source": [
    "for i in test_fib(10):\n",
    "    print(i)"
   ]
  },
  {
   "cell_type": "code",
   "execution_count": 38,
   "id": "c4dfcd0b-75c7-4d5f-be26-2e091226b6d4",
   "metadata": {},
   "outputs": [],
   "source": [
    " ### Create a generator function for prime numbers less than 1000. Use the next() method to print the \n",
    "###  first 20 prime numbers"
   ]
  },
  {
   "cell_type": "code",
   "execution_count": null,
   "id": "e0af7be2-376b-4c6d-b037-332cfbc38e2f",
   "metadata": {},
   "outputs": [],
   "source": [
    "def is_prime(num):\n",
    "    if num <= 1:\n",
    "        return False\n",
    "    elif num <= 3:\n",
    "        return True\n",
    "    elif num % 2 == 0 or num % 3 == 0:\n",
    "        return False\n",
    "    i = 5\n",
    "    while i * i <= num:\n",
    "        if num % i == 0 or num % (i + 2) == 0:\n",
    "            return False\n",
    "        i += 6\n",
    "    return True\n",
    "\n",
    "def prime_generator():\n",
    "    num = 2\n",
    "    while num < 1000:\n",
    "        if is_prime(num):\n",
    "            yield num\n",
    "        num += 1\n",
    "\n",
    "# Create a generator object\n",
    "prime_gen = prime_generator()\n",
    "\n",
    "# Print the first\n",
    "for _ in range(20):\n",
    "    print(next(prime_gen))\n",
    "\n",
    "\n"
   ]
  },
  {
   "cell_type": "code",
   "execution_count": null,
   "id": "040892c3-b13c-44de-9390-854f1e102e8a",
   "metadata": {},
   "outputs": [],
   "source": []
  },
  {
   "cell_type": "code",
   "execution_count": 39,
   "id": "7fb9a808-7cdf-47b8-bcf6-c02e10c26aae",
   "metadata": {},
   "outputs": [],
   "source": [
    "### Write a python program to print the first 10 Fibonacci numbers using a while loop"
   ]
  },
  {
   "cell_type": "code",
   "execution_count": 1,
   "id": "aea30a0b-d314-4d25-b09e-be6a13e8b6b7",
   "metadata": {},
   "outputs": [],
   "source": [
    "def test_fib():\n",
    "    a,b = 2,24\n",
    "    while True:\n",
    "        yield a\n",
    "        a,b = b , a+b\n",
    "    "
   ]
  },
  {
   "cell_type": "code",
   "execution_count": 2,
   "id": "f887e40f-3e11-467d-9923-ffdde8a67f72",
   "metadata": {},
   "outputs": [],
   "source": [
    "fib = test_fib()"
   ]
  },
  {
   "cell_type": "code",
   "execution_count": 3,
   "id": "8e96532b-2992-4f67-8525-cc12bb75bc0a",
   "metadata": {},
   "outputs": [
    {
     "name": "stdout",
     "output_type": "stream",
     "text": [
      "2\n",
      "24\n",
      "26\n",
      "50\n",
      "76\n",
      "126\n",
      "202\n",
      "328\n",
      "530\n",
      "858\n"
     ]
    }
   ],
   "source": [
    "for i in range(10):\n",
    "    print(next(fib))"
   ]
  },
  {
   "cell_type": "code",
   "execution_count": 2,
   "id": "c1910d6f-c45b-4b6d-9d03-2d05c4987ab2",
   "metadata": {},
   "outputs": [],
   "source": [
    "###  Write a List Comprehension to iterate through the given string: ‘pwskills’.\n",
    "### Expected output: ['p', 'w', 's', 'k', 'i', 'l', 'l', 's']"
   ]
  },
  {
   "cell_type": "code",
   "execution_count": 3,
   "id": "a1f2fa8e-fd3d-4d55-b2b5-96bb2acf77ac",
   "metadata": {},
   "outputs": [
    {
     "name": "stdout",
     "output_type": "stream",
     "text": [
      "['p', 'w', 's', 'k', 'i', 'l', 'l', 's']\n"
     ]
    }
   ],
   "source": [
    "input_string = 'pwskills'\n",
    "output_list = [ char for char in input_string]\n",
    "print(output_list)"
   ]
  },
  {
   "cell_type": "code",
   "execution_count": 4,
   "id": "8c1174b7-9252-4dfb-9393-86d131847014",
   "metadata": {},
   "outputs": [],
   "source": [
    "### Write a python program to check whether a given number is Palindrome or not using a while loop"
   ]
  },
  {
   "cell_type": "code",
   "execution_count": null,
   "id": "1b88d029-9861-4861-92eb-dbef3be993ba",
   "metadata": {},
   "outputs": [],
   "source": [
    "def is_palindrome(number):\n",
    "    temp_number = number\n",
    "    reverse_number = 0\n",
    "    \n",
    "    while number>0 :\n",
    "        digit = number%10\n",
    "        reverse_number = reverse_number*10 + digit\n",
    "        number = number//10\n",
    "    return temp_number == reverse_number\n",
    "\n",
    "number = int(input(\"Enter a number:\"))    \n",
    "if is_palindrome(number):\n",
    "    print(\"Number is a palindrome\")\n",
    "else:\n",
    "    print(\"Number is not a palindrome\")"
   ]
  },
  {
   "cell_type": "code",
   "execution_count": 1,
   "id": "5dce6a1f-a7ba-4401-8cf3-7c1986e60b0d",
   "metadata": {},
   "outputs": [],
   "source": [
    "### Write a code to print odd numbers from 1 to 100 using list comprehension.\n",
    "### Note: Use a list comprehension to create a list from 1 to 100 and use another List comprehension to filter \n",
    "### out odd numbers"
   ]
  },
  {
   "cell_type": "code",
   "execution_count": 5,
   "id": "07d80549-22b0-4706-9331-d3934cf99e3e",
   "metadata": {},
   "outputs": [
    {
     "name": "stdout",
     "output_type": "stream",
     "text": [
      "[1, 3, 5, 7, 9, 11, 13, 15, 17, 19, 21, 23, 25, 27, 29, 31, 33, 35, 37, 39, 41, 43, 45, 47, 49, 51, 53, 55, 57, 59, 61, 63, 65, 67, 69, 71, 73, 75, 77, 79, 81, 83, 85, 87, 89, 91, 93, 95, 97, 99]\n"
     ]
    }
   ],
   "source": [
    "numbers = [x for x in range (1,101)]\n",
    "odd_numbers = [x for x in numbers if x % 2 != 0]\n",
    "print(odd_numbers)"
   ]
  },
  {
   "cell_type": "code",
   "execution_count": null,
   "id": "10fe27bb-2102-4a78-8c2f-b08e4c7f1c7d",
   "metadata": {},
   "outputs": [],
   "source": []
  }
 ],
 "metadata": {
  "kernelspec": {
   "display_name": "Python 3 (ipykernel)",
   "language": "python",
   "name": "python3"
  },
  "language_info": {
   "codemirror_mode": {
    "name": "ipython",
    "version": 3
   },
   "file_extension": ".py",
   "mimetype": "text/x-python",
   "name": "python",
   "nbconvert_exporter": "python",
   "pygments_lexer": "ipython3",
   "version": "3.10.8"
  }
 },
 "nbformat": 4,
 "nbformat_minor": 5
}
